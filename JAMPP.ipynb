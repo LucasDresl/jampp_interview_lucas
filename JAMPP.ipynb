{
 "cells": [
  {
   "cell_type": "code",
   "execution_count": 216,
   "metadata": {},
   "outputs": [],
   "source": [
    "import pandas as pd\n",
    "import numpy as np\n",
    "import random\n",
    "import matplotlib.pyplot as plt\n",
    "from itertools import accumulate"
   ]
  },
  {
   "cell_type": "markdown",
   "metadata": {},
   "source": [
    "### Code given"
   ]
  },
  {
   "cell_type": "code",
   "execution_count": 217,
   "metadata": {},
   "outputs": [],
   "source": [
    "def weighted_random(values, weights):\n",
    "    total_weight = sum(weights)\n",
    "    acum_weights = [w / total_weight for w in weights[:]]\n",
    "    for i in range(len(weights)):\n",
    "        acum_weights[i] += acum_weights[i]\n",
    "        rand = random.random()\n",
    "    for value, weight in zip(values, acum_weights):\n",
    "        if weight > rand:\n",
    "            return value"
   ]
  },
  {
   "cell_type": "markdown",
   "metadata": {},
   "source": [
    "Function run_simulation is to test wether the code is retrieving expected results. If we run weighted_random function several times we should retrieved # values counts according to the \"acum_weights\" distribution"
   ]
  },
  {
   "cell_type": "code",
   "execution_count": 218,
   "metadata": {},
   "outputs": [],
   "source": [
    "sim = []\n",
    "def run_simulation(iters):\n",
    "    for i in range(iters):\n",
    "        vals = weighted_random([1,2,3] , [0.2 , 0.2, 0.6]) # proposed weights\n",
    "        sim.append(vals)"
   ]
  },
  {
   "cell_type": "code",
   "execution_count": 219,
   "metadata": {},
   "outputs": [],
   "source": [
    "run_simulation(100000)"
   ]
  },
  {
   "cell_type": "code",
   "execution_count": 220,
   "metadata": {},
   "outputs": [
    {
     "data": {
      "text/plain": [
       "(array([40219.,     0.,     0.,     0.,     0.,     0.,     0.,     0.,\n",
       "            0., 59781.]),\n",
       " array([1. , 1.2, 1.4, 1.6, 1.8, 2. , 2.2, 2.4, 2.6, 2.8, 3. ]),\n",
       " <a list of 10 Patch objects>)"
      ]
     },
     "execution_count": 220,
     "metadata": {},
     "output_type": "execute_result"
    },
    {
     "data": {
      "image/png": "[encoded data removed]",
      "text/plain": [
       "<Figure size 432x288 with 1 Axes>"
      ]
     },
     "metadata": {
      "needs_background": "light"
     },
     "output_type": "display_data"
    }
   ],
   "source": [
    "plt.hist(sim)"
   ]
  },
  {
   "cell_type": "markdown",
   "metadata": {},
   "source": [
    "In this case we can easily see that the function given is not correct because is not generating the expected value for index 2, in this case we should se 20% of data in 1 , 20% of data in 2 and 60% of data in 3"
   ]
  },
  {
   "cell_type": "markdown",
   "metadata": {},
   "source": [
    "### Fix code"
   ]
  },
  {
   "cell_type": "code",
   "execution_count": 210,
   "metadata": {},
   "outputs": [],
   "source": [
    "def weighted_random(values, weights):\n",
    "    \n",
    "    total_weight = sum(weights)\n",
    "    acum_weights = [w / total_weight for w in weights[:]]\n",
    "    \n",
    "    vals = 0\n",
    "    tuds = []\n",
    "\n",
    "    for i in acum_weights:\n",
    "        vals = vals + i\n",
    "        tuds.append(vals)\n",
    "\n",
    "    rand = random.random()\n",
    "        \n",
    "    for value, weight in zip(values, tuds):\n",
    "            if weight > rand:\n",
    "                return value"
   ]
  },
  {
   "cell_type": "code",
   "execution_count": 211,
   "metadata": {},
   "outputs": [
    {
     "data": {
      "text/plain": [
       "2"
      ]
     },
     "execution_count": 211,
     "metadata": {},
     "output_type": "execute_result"
    }
   ],
   "source": [
    "weighted_random([1,2,3] , [0.2 , 0.2 , 0.6])"
   ]
  },
  {
   "cell_type": "code",
   "execution_count": 212,
   "metadata": {},
   "outputs": [],
   "source": [
    "sim = []\n",
    "def run_simulation(iters):\n",
    "    for i in range(iters):\n",
    "        vals = weighted_random([1,2,3] , [0.2 , 0.2, 0.6])\n",
    "        sim.append(vals)"
   ]
  },
  {
   "cell_type": "code",
   "execution_count": 213,
   "metadata": {},
   "outputs": [],
   "source": [
    "run_simulation(100000)"
   ]
  },
  {
   "cell_type": "code",
   "execution_count": 214,
   "metadata": {},
   "outputs": [
    {
     "data": {
      "text/plain": [
       "(array([19896.,     0.,     0.,     0.,     0., 19965.,     0.,     0.,\n",
       "            0., 60139.]),\n",
       " array([1. , 1.2, 1.4, 1.6, 1.8, 2. , 2.2, 2.4, 2.6, 2.8, 3. ]),\n",
       " <a list of 10 Patch objects>)"
      ]
     },
     "execution_count": 214,
     "metadata": {},
     "output_type": "execute_result"
    },
    {
     "data": {
      "image/png": "[encoded data removed]",
      "text/plain": [
       "<Figure size 432x288 with 1 Axes>"
      ]
     },
     "metadata": {
      "needs_background": "light"
     },
     "output_type": "display_data"
    }
   ],
   "source": [
    "plt.hist(sim)"
   ]
  },
  {
   "cell_type": "code",
   "execution_count": null,
   "metadata": {},
   "outputs": [],
   "source": []
  }
 ],
 "metadata": {
  "kernelspec": {
   "display_name": "Python 3",
   "language": "python",
   "name": "python3"
  },
  "language_info": {
   "codemirror_mode": {
    "name": "ipython",
    "version": 3
   },
   "file_extension": ".py",
   "mimetype": "text/x-python",
   "name": "python",
   "nbconvert_exporter": "python",
   "pygments_lexer": "ipython3",
   "version": "3.7.3"
  },
  "toc": {
   "base_numbering": 1,
   "nav_menu": {},
   "number_sections": true,
   "sideBar": true,
   "skip_h1_title": false,
   "title_cell": "Table of Contents",
   "title_sidebar": "Contents",
   "toc_cell": false,
   "toc_position": {},
   "toc_section_display": true,
   "toc_window_display": false
  }
 },
 "nbformat": 4,
 "nbformat_minor": 2
}
